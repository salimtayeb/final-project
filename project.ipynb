{
 "cells": [
  {
   "attachments": {},
   "cell_type": "markdown",
   "metadata": {},
   "source": [
    "# Contact Feature"
   ]
  },
  {
   "attachments": {},
   "cell_type": "markdown",
   "metadata": {},
   "source": [
    "This project consists to create, update and delete contacts from a phone "
   ]
  },
  {
   "attachments": {},
   "cell_type": "markdown",
   "metadata": {},
   "source": [
    "Imported libraries"
   ]
  },
  {
   "cell_type": "code",
   "execution_count": 27,
   "metadata": {},
   "outputs": [],
   "source": [
    "import pandas as pd\n",
    "import os\n",
    "from datetime import datetime"
   ]
  },
  {
   "attachments": {},
   "cell_type": "markdown",
   "metadata": {},
   "source": [
    "CLASS"
   ]
  },
  {
   "cell_type": "code",
   "execution_count": 34,
   "metadata": {},
   "outputs": [],
   "source": [
    "class Contact():\n",
    "    def __init__(self, last_name, first_name, phone):\n",
    "        self.last_name = last_name\n",
    "        self.first_name = first_name\n",
    "        self.phone = phone\n",
    "        self.date = datetime.now\n",
    "        self.contacts = []\n",
    "        self.date_update = None\n",
    "        \n",
    "    def __str(self):\n",
    "        return f'{self.last_name} {self.first_name} - {self.phone} Created : {self.date} - Updated : {self.date_update}'\n",
    "        \n",
    "    def update_contact(self, new_last_name = None, new_first_name = None, new_phone = None):\n",
    "        if new_last_name : \n",
    "            self.last_name = new_last_name\n",
    "        if new_first_name :\n",
    "            self.first_name = new_first_name\n",
    "        if new_phone :\n",
    "            self.phone = new_phone\n",
    "        self.datetime_update = datetime.now\n",
    "        \n",
    "class Repertory():\n",
    "    def __init__(self):\n",
    "        self.contacts = []\n",
    "        self.file_name = \"contacts.csv\"\n",
    "    \n",
    "    def add_contact(self, contact):\n",
    "        contact_data = {\"last_name\": contact.last_time, \"first_name\": contact.first_time, \"phone\": contact.phone, \"date\": contact.date, \"date_update\" : contact.date_update}\n",
    "        self.contacts = self.contact.append(contact_data, ignore_index = True)\n",
    "    \n",
    "    def update_contact(self,last_name ,  new_last_name = None, new_first_name = None, new_phone = None):\n",
    "        contact_to_update = self.contacts[self.contacts[\"last_name\"] == last_name]\n",
    "    \n",
    "    def delete_contact(self, last_name):\n",
    "        contact_to_delete = self.contacts[self.contacts[\"last_name\"] == last_name]\n",
    "    \n",
    "    def save_to_csv(self, file_path):\n",
    "        self.contacts.to_csv(file_path)\n",
    "    \n",
    "    def load_from_csv(self, file_path):\n",
    "        self.contacts = pd.read_csv(file_path)\n",
    "    "
   ]
  },
  {
   "attachments": {},
   "cell_type": "markdown",
   "metadata": {},
   "source": [
    "CREATE"
   ]
  },
  {
   "cell_type": "code",
   "execution_count": 33,
   "metadata": {},
   "outputs": [
    {
     "name": "stdout",
     "output_type": "stream",
     "text": [
      "<__main__.Contact object at 0x00000213767BB210>\n"
     ]
    }
   ],
   "source": [
    "\n",
    "directory = Repertory()\n",
    "new_contact = Contact(\"SALIM\", \"Tayeb\", \"0766545479\")\n",
    "print(new_contact)"
   ]
  },
  {
   "attachments": {},
   "cell_type": "markdown",
   "metadata": {},
   "source": [
    "UPDATE"
   ]
  },
  {
   "cell_type": "code",
   "execution_count": null,
   "metadata": {},
   "outputs": [],
   "source": []
  },
  {
   "attachments": {},
   "cell_type": "markdown",
   "metadata": {},
   "source": [
    "BONUS : DELETE"
   ]
  },
  {
   "cell_type": "code",
   "execution_count": 35,
   "metadata": {},
   "outputs": [
    {
     "ename": "TypeError",
     "evalue": "Repertory.delete_contact() takes 2 positional arguments but 3 were given",
     "output_type": "error",
     "traceback": [
      "\u001b[1;31m---------------------------------------------------------------------------\u001b[0m",
      "\u001b[1;31mTypeError\u001b[0m                                 Traceback (most recent call last)",
      "Cell \u001b[1;32mIn[35], line 1\u001b[0m\n\u001b[1;32m----> 1\u001b[0m directory\u001b[39m.\u001b[39;49mdelete_contact(\u001b[39m\"\u001b[39;49m\u001b[39mSALIM\u001b[39;49m\u001b[39m\"\u001b[39;49m, \u001b[39m\"\u001b[39;49m\u001b[39mTayeb\u001b[39;49m\u001b[39m\"\u001b[39;49m)\n",
      "\u001b[1;31mTypeError\u001b[0m: Repertory.delete_contact() takes 2 positional arguments but 3 were given"
     ]
    }
   ],
   "source": [
    "directory.delete_contact(\"SALIM\", \"Tayeb\")"
   ]
  }
 ],
 "metadata": {
  "kernelspec": {
   "display_name": "Python 3",
   "language": "python",
   "name": "python3"
  },
  "language_info": {
   "codemirror_mode": {
    "name": "ipython",
    "version": 3
   },
   "file_extension": ".py",
   "mimetype": "text/x-python",
   "name": "python",
   "nbconvert_exporter": "python",
   "pygments_lexer": "ipython3",
   "version": "3.11.1"
  },
  "orig_nbformat": 4,
  "vscode": {
   "interpreter": {
    "hash": "03eba0b01c3954435fbebca38b769bae7fadf8e3de9a2ba60ebfbc1dd4c7bebe"
   }
  }
 },
 "nbformat": 4,
 "nbformat_minor": 2
}
